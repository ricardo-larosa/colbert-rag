{
 "cells": [
  {
   "cell_type": "code",
   "execution_count": 1,
   "metadata": {},
   "outputs": [
    {
     "data": {
      "application/vnd.jupyter.widget-view+json": {
       "model_id": "9dd31befa37945b8bd974033ff9dd32b",
       "version_major": 2,
       "version_minor": 0
      },
      "text/plain": [
       "artifact.metadata:   0%|          | 0.00/1.63k [00:00<?, ?B/s]"
      ]
     },
     "metadata": {},
     "output_type": "display_data"
    },
    {
     "data": {
      "application/vnd.jupyter.widget-view+json": {
       "model_id": "99be8157981448bd925f53a67dc87240",
       "version_major": 2,
       "version_minor": 0
      },
      "text/plain": [
       "config.json:   0%|          | 0.00/743 [00:00<?, ?B/s]"
      ]
     },
     "metadata": {},
     "output_type": "display_data"
    },
    {
     "data": {
      "application/vnd.jupyter.widget-view+json": {
       "model_id": "e08678bdf9a14b32ae1d0cf3f1d28eea",
       "version_major": 2,
       "version_minor": 0
      },
      "text/plain": [
       "model.safetensors:   0%|          | 0.00/438M [00:00<?, ?B/s]"
      ]
     },
     "metadata": {},
     "output_type": "display_data"
    },
    {
     "data": {
      "application/vnd.jupyter.widget-view+json": {
       "model_id": "81f9b539d26c4506a0ee5fa0210b662b",
       "version_major": 2,
       "version_minor": 0
      },
      "text/plain": [
       "tokenizer_config.json:   0%|          | 0.00/405 [00:00<?, ?B/s]"
      ]
     },
     "metadata": {},
     "output_type": "display_data"
    },
    {
     "data": {
      "application/vnd.jupyter.widget-view+json": {
       "model_id": "c2be1a452e62484e9eb079367ba86e14",
       "version_major": 2,
       "version_minor": 0
      },
      "text/plain": [
       "vocab.txt:   0%|          | 0.00/232k [00:00<?, ?B/s]"
      ]
     },
     "metadata": {},
     "output_type": "display_data"
    },
    {
     "data": {
      "application/vnd.jupyter.widget-view+json": {
       "model_id": "8ca4146af0a54826b85e3028d3203d34",
       "version_major": 2,
       "version_minor": 0
      },
      "text/plain": [
       "tokenizer.json:   0%|          | 0.00/466k [00:00<?, ?B/s]"
      ]
     },
     "metadata": {},
     "output_type": "display_data"
    },
    {
     "data": {
      "application/vnd.jupyter.widget-view+json": {
       "model_id": "a0d33a06bad744d5921e12950c61f2c5",
       "version_major": 2,
       "version_minor": 0
      },
      "text/plain": [
       "special_tokens_map.json:   0%|          | 0.00/112 [00:00<?, ?B/s]"
      ]
     },
     "metadata": {},
     "output_type": "display_data"
    },
    {
     "name": "stderr",
     "output_type": "stream",
     "text": [
      "/home/zeus/miniconda3/envs/cloudspace/lib/python3.10/site-packages/colbert/utils/amp.py:12: FutureWarning: `torch.cuda.amp.GradScaler(args...)` is deprecated. Please use `torch.amp.GradScaler('cuda', args...)` instead.\n",
      "  self.scaler = torch.cuda.amp.GradScaler()\n"
     ]
    }
   ],
   "source": [
    "from ragatouille import RAGPretrainedModel\n",
    "RAG = RAGPretrainedModel.from_pretrained(\"colbert-ir/colbertv2.0\")"
   ]
  },
  {
   "cell_type": "code",
   "execution_count": 2,
   "metadata": {},
   "outputs": [],
   "source": [
    "import requests\n",
    "\n",
    "def get_wikipedia_page(title: str):\n",
    "    \"\"\"\n",
    "    Retrieve the full text content of a Wikipedia page.\n",
    "\n",
    "    :param title: str - Title of the Wikipedia page.\n",
    "    :return: str - Full text content of the page as raw string.\n",
    "    \"\"\"\n",
    "    # Wikipedia API endpoint\n",
    "    URL = \"https://en.wikipedia.org/w/api.php\"\n",
    "\n",
    "    # Parameters for the API request\n",
    "    params = {\n",
    "        \"action\": \"query\",\n",
    "        \"format\": \"json\",\n",
    "        \"titles\": title,\n",
    "        \"prop\": \"extracts\",\n",
    "        \"explaintext\": True,\n",
    "    }\n",
    "\n",
    "    # Custom User-Agent header to comply with Wikipedia's best practices\n",
    "    headers = {\"User-Agent\": \"RAGatouille_tutorial/0.0.1 (ricardo@larosa.dev)\"}\n",
    "\n",
    "    response = requests.get(URL, params=params, headers=headers)\n",
    "    data = response.json()\n",
    "\n",
    "    # Extracting page content\n",
    "    page = next(iter(data[\"query\"][\"pages\"].values()))\n",
    "    return page[\"extract\"] if \"extract\" in page else None\n",
    "\n",
    "full_document = get_wikipedia_page(\"2024_United_States_presidential_election\")"
   ]
  },
  {
   "cell_type": "code",
   "execution_count": 3,
   "metadata": {},
   "outputs": [
    {
     "name": "stdout",
     "output_type": "stream",
     "text": [
      "---- WARNING! You are using PLAID with an experimental replacement for FAISS for greater compatibility ----\n",
      "This is a behaviour change from RAGatouille 0.8.0 onwards.\n",
      "This works fine for most users and smallish datasets, but can be considerably slower than FAISS and could cause worse results in some situations.\n",
      "If you're confident with FAISS working on your machine, pass use_faiss=True to revert to the FAISS-using behaviour.\n",
      "--------------------\n",
      "\n",
      "\n",
      "[Jul 30, 14:53:10] #> Creating directory .ragatouille/colbert/indexes/US_Elections-2024 \n",
      "\n",
      "\n",
      "[Jul 30, 14:53:10] [0] \t\t #> Encoding 69 passages..\n"
     ]
    },
    {
     "name": "stderr",
     "output_type": "stream",
     "text": [
      "/home/zeus/miniconda3/envs/cloudspace/lib/python3.10/site-packages/colbert/utils/amp.py:15: FutureWarning: `torch.cuda.amp.autocast(args...)` is deprecated. Please use `torch.amp.autocast('cuda', args...)` instead.\n",
      "  return torch.cuda.amp.autocast() if self.activated else NullContextManager()\n"
     ]
    },
    {
     "name": "stdout",
     "output_type": "stream",
     "text": [
      "[Jul 30, 14:53:12] [0] \t\t avg_doclen_est = 131.82608032226562 \t len(local_sample) = 69\n",
      "[Jul 30, 14:53:12] [0] \t\t Creating 1,024 partitions.\n",
      "[Jul 30, 14:53:12] [0] \t\t *Estimated* 9,095 embeddings.\n",
      "[Jul 30, 14:53:12] [0] \t\t #> Saving the indexing plan to .ragatouille/colbert/indexes/US_Elections-2024/plan.json ..\n",
      "Warning: number of training points (8642) is less than the minimum recommended (10240)\n",
      "used 16 iterations (0.1114s) to cluster 8642 items into 1024 clusters\n",
      "[Jul 30, 14:53:12] Loading decompress_residuals_cpp extension (set COLBERT_LOAD_TORCH_EXTENSION_VERBOSE=True for more info)...\n"
     ]
    },
    {
     "name": "stderr",
     "output_type": "stream",
     "text": [
      "/home/zeus/miniconda3/envs/cloudspace/lib/python3.10/site-packages/colbert/indexing/collection_indexer.py:256: FutureWarning: You are using `torch.load` with `weights_only=False` (the current default value), which uses the default pickle module implicitly. It is possible to construct malicious pickle data which will execute arbitrary code during unpickling (See https://github.com/pytorch/pytorch/blob/main/SECURITY.md#untrusted-models for more details). In a future release, the default value for `weights_only` will be flipped to `True`. This limits the functions that could be executed during unpickling. Arbitrary objects will no longer be allowed to be loaded via this mode unless they are explicitly allowlisted by the user via `torch.serialization.add_safe_globals`. We recommend you start setting `weights_only=True` for any use case where you don't have full control of the loaded file. Please open an issue on GitHub for any issues related to this experimental feature.\n",
      "  sub_sample = torch.load(sub_sample_path)\n"
     ]
    },
    {
     "name": "stdout",
     "output_type": "stream",
     "text": [
      "[Jul 30, 14:56:39] Loading packbits_cpp extension (set COLBERT_LOAD_TORCH_EXTENSION_VERBOSE=True for more info)...\n"
     ]
    },
    {
     "name": "stderr",
     "output_type": "stream",
     "text": [
      "/home/zeus/miniconda3/envs/cloudspace/lib/python3.10/site-packages/colbert/indexing/codecs/residual.py:141: FutureWarning: You are using `torch.load` with `weights_only=False` (the current default value), which uses the default pickle module implicitly. It is possible to construct malicious pickle data which will execute arbitrary code during unpickling (See https://github.com/pytorch/pytorch/blob/main/SECURITY.md#untrusted-models for more details). In a future release, the default value for `weights_only` will be flipped to `True`. This limits the functions that could be executed during unpickling. Arbitrary objects will no longer be allowed to be loaded via this mode unless they are explicitly allowlisted by the user via `torch.serialization.add_safe_globals`. We recommend you start setting `weights_only=True` for any use case where you don't have full control of the loaded file. Please open an issue on GitHub for any issues related to this experimental feature.\n",
      "  centroids = torch.load(centroids_path, map_location='cpu')\n",
      "/home/zeus/miniconda3/envs/cloudspace/lib/python3.10/site-packages/colbert/indexing/codecs/residual.py:142: FutureWarning: You are using `torch.load` with `weights_only=False` (the current default value), which uses the default pickle module implicitly. It is possible to construct malicious pickle data which will execute arbitrary code during unpickling (See https://github.com/pytorch/pytorch/blob/main/SECURITY.md#untrusted-models for more details). In a future release, the default value for `weights_only` will be flipped to `True`. This limits the functions that could be executed during unpickling. Arbitrary objects will no longer be allowed to be loaded via this mode unless they are explicitly allowlisted by the user via `torch.serialization.add_safe_globals`. We recommend you start setting `weights_only=True` for any use case where you don't have full control of the loaded file. Please open an issue on GitHub for any issues related to this experimental feature.\n",
      "  avg_residual = torch.load(avgresidual_path, map_location='cpu')\n",
      "/home/zeus/miniconda3/envs/cloudspace/lib/python3.10/site-packages/colbert/indexing/codecs/residual.py:143: FutureWarning: You are using `torch.load` with `weights_only=False` (the current default value), which uses the default pickle module implicitly. It is possible to construct malicious pickle data which will execute arbitrary code during unpickling (See https://github.com/pytorch/pytorch/blob/main/SECURITY.md#untrusted-models for more details). In a future release, the default value for `weights_only` will be flipped to `True`. This limits the functions that could be executed during unpickling. Arbitrary objects will no longer be allowed to be loaded via this mode unless they are explicitly allowlisted by the user via `torch.serialization.add_safe_globals`. We recommend you start setting `weights_only=True` for any use case where you don't have full control of the loaded file. Please open an issue on GitHub for any issues related to this experimental feature.\n",
      "  bucket_cutoffs, bucket_weights = torch.load(buckets_path, map_location='cpu')\n"
     ]
    },
    {
     "name": "stdout",
     "output_type": "stream",
     "text": [
      "[0.034, 0.043, 0.038, 0.035, 0.037, 0.036, 0.036, 0.036, 0.035, 0.04, 0.033, 0.037, 0.037, 0.041, 0.037, 0.036, 0.031, 0.035, 0.037, 0.042, 0.038, 0.038, 0.037, 0.037, 0.036, 0.036, 0.041, 0.039, 0.038, 0.037, 0.034, 0.038, 0.041, 0.035, 0.039, 0.036, 0.039, 0.037, 0.038, 0.046, 0.04, 0.032, 0.038, 0.035, 0.039, 0.034, 0.035, 0.042, 0.038, 0.035, 0.032, 0.037, 0.037, 0.035, 0.039, 0.036, 0.041, 0.036, 0.046, 0.036, 0.035, 0.037, 0.039, 0.037, 0.037, 0.039, 0.037, 0.039, 0.029, 0.034, 0.038, 0.034, 0.036, 0.038, 0.039, 0.04, 0.04, 0.04, 0.044, 0.039, 0.036, 0.037, 0.034, 0.039, 0.039, 0.036, 0.036, 0.039, 0.036, 0.04, 0.035, 0.036, 0.037, 0.039, 0.034, 0.039, 0.041, 0.034, 0.035, 0.035, 0.04, 0.041, 0.038, 0.035, 0.036, 0.037, 0.037, 0.035, 0.04, 0.034, 0.036, 0.037, 0.039, 0.032, 0.038, 0.036, 0.037, 0.04, 0.037, 0.036, 0.033, 0.034, 0.031, 0.039, 0.037, 0.035, 0.032, 0.033]\n"
     ]
    },
    {
     "name": "stderr",
     "output_type": "stream",
     "text": [
      "0it [00:00, ?it/s]"
     ]
    },
    {
     "name": "stdout",
     "output_type": "stream",
     "text": [
      "[Jul 30, 15:00:03] [0] \t\t #> Encoding 69 passages..\n"
     ]
    },
    {
     "name": "stderr",
     "output_type": "stream",
     "text": [
      "/home/zeus/miniconda3/envs/cloudspace/lib/python3.10/site-packages/colbert/utils/amp.py:15: FutureWarning: `torch.cuda.amp.autocast(args...)` is deprecated. Please use `torch.amp.autocast('cuda', args...)` instead.\n",
      "  return torch.cuda.amp.autocast() if self.activated else NullContextManager()\n",
      "1it [00:00,  9.23it/s]\n",
      "  0%|          | 0/1 [00:00<?, ?it/s]/home/zeus/miniconda3/envs/cloudspace/lib/python3.10/site-packages/colbert/indexing/codecs/residual_embeddings.py:86: FutureWarning: You are using `torch.load` with `weights_only=False` (the current default value), which uses the default pickle module implicitly. It is possible to construct malicious pickle data which will execute arbitrary code during unpickling (See https://github.com/pytorch/pytorch/blob/main/SECURITY.md#untrusted-models for more details). In a future release, the default value for `weights_only` will be flipped to `True`. This limits the functions that could be executed during unpickling. Arbitrary objects will no longer be allowed to be loaded via this mode unless they are explicitly allowlisted by the user via `torch.serialization.add_safe_globals`. We recommend you start setting `weights_only=True` for any use case where you don't have full control of the loaded file. Please open an issue on GitHub for any issues related to this experimental feature.\n",
      "  return torch.load(codes_path, map_location='cpu')\n",
      "100%|██████████| 1/1 [00:00<00:00, 1152.91it/s]"
     ]
    },
    {
     "name": "stdout",
     "output_type": "stream",
     "text": [
      "[Jul 30, 15:00:03] #> Optimizing IVF to store map from centroids to list of pids..\n",
      "[Jul 30, 15:00:03] #> Building the emb2pid mapping..\n",
      "[Jul 30, 15:00:03] len(emb2pid) = 9096\n"
     ]
    },
    {
     "name": "stderr",
     "output_type": "stream",
     "text": [
      "\n",
      "100%|██████████| 1024/1024 [00:00<00:00, 99386.03it/s]"
     ]
    },
    {
     "name": "stdout",
     "output_type": "stream",
     "text": [
      "[Jul 30, 15:00:03] #> Saved optimized IVF to .ragatouille/colbert/indexes/US_Elections-2024/ivf.pid.pt\n",
      "Done indexing!\n"
     ]
    },
    {
     "name": "stderr",
     "output_type": "stream",
     "text": [
      "\n"
     ]
    },
    {
     "data": {
      "text/plain": [
       "'.ragatouille/colbert/indexes/US_Elections-2024'"
      ]
     },
     "execution_count": 3,
     "metadata": {},
     "output_type": "execute_result"
    }
   ],
   "source": [
    "RAG.index(\n",
    "    collection=[full_document],\n",
    "    index_name=\"US_Elections-2024\",\n",
    "    max_document_length=180,\n",
    "    split_documents=True,\n",
    ")"
   ]
  },
  {
   "cell_type": "code",
   "execution_count": 4,
   "metadata": {},
   "outputs": [],
   "source": [
    "query = \"Who are the presidential candidates for the elections in 2024\""
   ]
  },
  {
   "cell_type": "code",
   "execution_count": 5,
   "metadata": {},
   "outputs": [
    {
     "name": "stdout",
     "output_type": "stream",
     "text": [
      "Loading searcher for index US_Elections-2024 for the first time... This may take a few seconds\n"
     ]
    },
    {
     "name": "stdout",
     "output_type": "stream",
     "text": [
      "[Jul 30, 15:00:34] #> Loading codec...\n",
      "[Jul 30, 15:00:34] #> Loading IVF...\n",
      "[Jul 30, 15:00:34] #> Loading doclens...\n"
     ]
    },
    {
     "name": "stderr",
     "output_type": "stream",
     "text": [
      "/home/zeus/miniconda3/envs/cloudspace/lib/python3.10/site-packages/colbert/utils/amp.py:12: FutureWarning: `torch.cuda.amp.GradScaler(args...)` is deprecated. Please use `torch.amp.GradScaler('cuda', args...)` instead.\n",
      "  self.scaler = torch.cuda.amp.GradScaler()\n",
      "/home/zeus/miniconda3/envs/cloudspace/lib/python3.10/site-packages/colbert/search/index_loader.py:33: FutureWarning: You are using `torch.load` with `weights_only=False` (the current default value), which uses the default pickle module implicitly. It is possible to construct malicious pickle data which will execute arbitrary code during unpickling (See https://github.com/pytorch/pytorch/blob/main/SECURITY.md#untrusted-models for more details). In a future release, the default value for `weights_only` will be flipped to `True`. This limits the functions that could be executed during unpickling. Arbitrary objects will no longer be allowed to be loaded via this mode unless they are explicitly allowlisted by the user via `torch.serialization.add_safe_globals`. We recommend you start setting `weights_only=True` for any use case where you don't have full control of the loaded file. Please open an issue on GitHub for any issues related to this experimental feature.\n",
      "  ivf, ivf_lengths = torch.load(os.path.join(self.index_path, \"ivf.pid.pt\"), map_location='cpu')\n",
      "100%|██████████| 1/1 [00:00<00:00, 3021.83it/s]"
     ]
    },
    {
     "name": "stdout",
     "output_type": "stream",
     "text": [
      "[Jul 30, 15:00:34] #> Loading codes and residuals...\n"
     ]
    },
    {
     "name": "stderr",
     "output_type": "stream",
     "text": [
      "\n",
      "  0%|          | 0/1 [00:00<?, ?it/s]/home/zeus/miniconda3/envs/cloudspace/lib/python3.10/site-packages/colbert/indexing/codecs/residual_embeddings.py:93: FutureWarning: You are using `torch.load` with `weights_only=False` (the current default value), which uses the default pickle module implicitly. It is possible to construct malicious pickle data which will execute arbitrary code during unpickling (See https://github.com/pytorch/pytorch/blob/main/SECURITY.md#untrusted-models for more details). In a future release, the default value for `weights_only` will be flipped to `True`. This limits the functions that could be executed during unpickling. Arbitrary objects will no longer be allowed to be loaded via this mode unless they are explicitly allowlisted by the user via `torch.serialization.add_safe_globals`. We recommend you start setting `weights_only=True` for any use case where you don't have full control of the loaded file. Please open an issue on GitHub for any issues related to this experimental feature.\n",
      "  return torch.load(residuals_path, map_location='cpu')\n",
      "100%|██████████| 1/1 [00:00<00:00, 403.76it/s]"
     ]
    },
    {
     "name": "stdout",
     "output_type": "stream",
     "text": [
      "Searcher loaded!\n",
      "\n",
      "#> QueryTokenizer.tensorize(batch_text[0], batch_background[0], bsize) ==\n",
      "#> Input: . Who are the presidential candidates for the elections in 2024, \t\t True, \t\t None\n",
      "#> Output IDs: torch.Size([32]), tensor([  101,     1,  2040,  2024,  1996,  4883,  5347,  2005,  1996,  3864,\n",
      "         1999, 16798,  2549,   102,   103,   103,   103,   103,   103,   103,\n",
      "          103,   103,   103,   103,   103,   103,   103,   103,   103,   103,\n",
      "          103,   103], device='cuda:0')\n",
      "#> Output Mask: torch.Size([32]), tensor([1, 1, 1, 1, 1, 1, 1, 1, 1, 1, 1, 1, 1, 1, 0, 0, 0, 0, 0, 0, 0, 0, 0, 0,\n",
      "        0, 0, 0, 0, 0, 0, 0, 0], device='cuda:0')\n",
      "\n"
     ]
    },
    {
     "name": "stderr",
     "output_type": "stream",
     "text": [
      "\n"
     ]
    },
    {
     "data": {
      "text/plain": [
       "[{'content': \"The 2024 United States presidential election will be the 60th quadrennial presidential election, set to be held on Tuesday, November 5, 2024. Voters in each state and the District of Columbia will choose a slate of electors to the U.S. Electoral College, who will then elect a president and vice president for a term of four years.\\nIncumbent president Joe Biden, a member of the Democratic Party, initially ran for re-election and became the party's presumptive nominee on March 12. However, following a poor performance in the June 2024 presidential debate and increasing age and health concerns, he withdrew on July 21 and endorsed Vice President Kamala Harris, who launched her presidential campaign the same day. She secured enough delegate endorsements to become the new presumptive nominee a day later.\",\n",
       "  'score': 26.796875,\n",
       "  'rank': 1,\n",
       "  'document_id': '9db8dfa3-4eb1-4b83-9b22-a30843b7300b',\n",
       "  'passage_id': 0},\n",
       " {'content': 'The presidential election will take place at the same time as elections for the U.S. Senate, House, gubernatorial, and state legislatures. Robert F. Kennedy Jr. emerged as the highest-polling third-party presidential candidate since Ross Perot in the 1992 election, running as an independent. Leading campaign issues are expected to be abortion, border security and immigration, climate change, democracy, the economy, education, foreign policy, healthcare, and LGBT rights. The winners of this election are scheduled to be inaugurated on January 20, 2025, as the 47th president and 50th vice president of the United States, respectively.\\n\\n\\n== Background ==',\n",
       "  'score': 23.71875,\n",
       "  'rank': 2,\n",
       "  'document_id': '9db8dfa3-4eb1-4b83-9b22-a30843b7300b',\n",
       "  'passage_id': 4},\n",
       " {'content': 'On July 18, 2024, Trump accepted the nomination from the Republican National Convention to become the Republican presidential nominee. This was the third consecutive election in which he was the Republican nominee.\\n\\n\\n=== Republican nominee ===\\n\\n\\n== Third-party and independent candidates ==\\n\\nThird-party and independent candidates have also announced presidential runs. They include Robert F. Kennedy Jr., and Cornel West. Centrist political organization No Labels intended to field a third-party \"unity ticket\", before abandoning their efforts in April 2024. Some established third parties, such as the American Solidarity Party, the Prohibition Party, the Constitution Party, the Libertarian Party and the Party for Socialism and Liberation have announced presidential nominees, while the Green Party has begun their primaries. While independent/third-party candidates often do better in opinion polls than actual election performance, third-party candidates, as of April 2024, have the strongest showing in polls since Ross Perot\\'s high poll numbers in the 1990s.',\n",
       "  'score': 22.9375,\n",
       "  'rank': 3,\n",
       "  'document_id': '9db8dfa3-4eb1-4b83-9b22-a30843b7300b',\n",
       "  'passage_id': 57}]"
      ]
     },
     "execution_count": 5,
     "metadata": {},
     "output_type": "execute_result"
    }
   ],
   "source": [
    "results = RAG.search(query=query, k=3)\n",
    "results"
   ]
  },
  {
   "cell_type": "code",
   "execution_count": 6,
   "metadata": {},
   "outputs": [
    {
     "name": "stderr",
     "output_type": "stream",
     "text": [
      "/home/zeus/miniconda3/envs/cloudspace/lib/python3.10/site-packages/colbert/utils/amp.py:15: FutureWarning: `torch.cuda.amp.autocast(args...)` is deprecated. Please use `torch.amp.autocast('cuda', args...)` instead.\n",
      "  return torch.cuda.amp.autocast() if self.activated else NullContextManager()\n"
     ]
    },
    {
     "data": {
      "text/plain": [
       "[Document(page_content=\"The 2024 United States presidential election will be the 60th quadrennial presidential election, set to be held on Tuesday, November 5, 2024. Voters in each state and the District of Columbia will choose a slate of electors to the U.S. Electoral College, who will then elect a president and vice president for a term of four years.\\nIncumbent president Joe Biden, a member of the Democratic Party, initially ran for re-election and became the party's presumptive nominee on March 12. However, following a poor performance in the June 2024 presidential debate and increasing age and health concerns, he withdrew on July 21 and endorsed Vice President Kamala Harris, who launched her presidential campaign the same day. She secured enough delegate endorsements to become the new presumptive nominee a day later.\"),\n",
       " Document(page_content='The presidential election will take place at the same time as elections for the U.S. Senate, House, gubernatorial, and state legislatures. Robert F. Kennedy Jr. emerged as the highest-polling third-party presidential candidate since Ross Perot in the 1992 election, running as an independent. Leading campaign issues are expected to be abortion, border security and immigration, climate change, democracy, the economy, education, foreign policy, healthcare, and LGBT rights. The winners of this election are scheduled to be inaugurated on January 20, 2025, as the 47th president and 50th vice president of the United States, respectively.\\n\\n\\n== Background =='),\n",
       " Document(page_content='On July 18, 2024, Trump accepted the nomination from the Republican National Convention to become the Republican presidential nominee. This was the third consecutive election in which he was the Republican nominee.\\n\\n\\n=== Republican nominee ===\\n\\n\\n== Third-party and independent candidates ==\\n\\nThird-party and independent candidates have also announced presidential runs. They include Robert F. Kennedy Jr., and Cornel West. Centrist political organization No Labels intended to field a third-party \"unity ticket\", before abandoning their efforts in April 2024. Some established third parties, such as the American Solidarity Party, the Prohibition Party, the Constitution Party, the Libertarian Party and the Party for Socialism and Liberation have announced presidential nominees, while the Green Party has begun their primaries. While independent/third-party candidates often do better in opinion polls than actual election performance, third-party candidates, as of April 2024, have the strongest showing in polls since Ross Perot\\'s high poll numbers in the 1990s.'),\n",
       " Document(page_content='Author Marianne Williamson announced her candidacy in February 2023, before Biden announced his own candidacy for re-election. Williamson had previously sought the Democratic presidential nomination in 2020. In April 2023, Robert F. Kennedy Jr. announced his candidacy for the nomination. On October 9, 2023, Kennedy announced that he would be dropping out of the Democratic primary and would instead run as an independent candidate. Representative Dean Phillips announced his run against Biden on October 26. Venture capitalist Jason Palmer announced his campaign on October 22.\\nWilliamson announced her initial withdrawal on February 7, 2024, though she resumed her campaign a few weeks later.')]"
      ]
     },
     "execution_count": 6,
     "metadata": {},
     "output_type": "execute_result"
    }
   ],
   "source": [
    "retriever = RAG.as_langchain_retriever(k=4)\n",
    "retriever.invoke(query)"
   ]
  },
  {
   "cell_type": "code",
   "execution_count": 7,
   "metadata": {},
   "outputs": [],
   "source": [
    "from dotenv import load_dotenv\n",
    "_ = load_dotenv()"
   ]
  },
  {
   "cell_type": "code",
   "execution_count": 8,
   "metadata": {},
   "outputs": [],
   "source": [
    "from langchain.chains import create_retrieval_chain\n",
    "from langchain.chains.combine_documents import create_stuff_documents_chain\n",
    "from langchain_core.prompts import ChatPromptTemplate\n",
    "from langchain_openai import ChatOpenAI\n",
    "\n",
    "prompt = ChatPromptTemplate.from_template(\n",
    "    \"\"\"Answer the following question based only on the provided context:\n",
    "\n",
    "<context>\n",
    "{context}\n",
    "</context>\n",
    "\n",
    "Question: {input}\"\"\"\n",
    ")\n",
    "\n",
    "llm = ChatOpenAI(model=\"gpt-4o-mini\")\n",
    "\n",
    "document_chain = create_stuff_documents_chain(llm, prompt)\n",
    "retrieval_chain = create_retrieval_chain(retriever, document_chain)"
   ]
  },
  {
   "cell_type": "code",
   "execution_count": 9,
   "metadata": {},
   "outputs": [
    {
     "name": "stderr",
     "output_type": "stream",
     "text": [
      "/home/zeus/miniconda3/envs/cloudspace/lib/python3.10/site-packages/colbert/utils/amp.py:15: FutureWarning: `torch.cuda.amp.autocast(args...)` is deprecated. Please use `torch.amp.autocast('cuda', args...)` instead.\n",
      "  return torch.cuda.amp.autocast() if self.activated else NullContextManager()\n"
     ]
    },
    {
     "data": {
      "text/plain": [
       "{'input': 'Who are the presidential candidates for the elections in 2024',\n",
       " 'context': [Document(page_content=\"The 2024 United States presidential election will be the 60th quadrennial presidential election, set to be held on Tuesday, November 5, 2024. Voters in each state and the District of Columbia will choose a slate of electors to the U.S. Electoral College, who will then elect a president and vice president for a term of four years.\\nIncumbent president Joe Biden, a member of the Democratic Party, initially ran for re-election and became the party's presumptive nominee on March 12. However, following a poor performance in the June 2024 presidential debate and increasing age and health concerns, he withdrew on July 21 and endorsed Vice President Kamala Harris, who launched her presidential campaign the same day. She secured enough delegate endorsements to become the new presumptive nominee a day later.\"),\n",
       "  Document(page_content='The presidential election will take place at the same time as elections for the U.S. Senate, House, gubernatorial, and state legislatures. Robert F. Kennedy Jr. emerged as the highest-polling third-party presidential candidate since Ross Perot in the 1992 election, running as an independent. Leading campaign issues are expected to be abortion, border security and immigration, climate change, democracy, the economy, education, foreign policy, healthcare, and LGBT rights. The winners of this election are scheduled to be inaugurated on January 20, 2025, as the 47th president and 50th vice president of the United States, respectively.\\n\\n\\n== Background =='),\n",
       "  Document(page_content='On July 18, 2024, Trump accepted the nomination from the Republican National Convention to become the Republican presidential nominee. This was the third consecutive election in which he was the Republican nominee.\\n\\n\\n=== Republican nominee ===\\n\\n\\n== Third-party and independent candidates ==\\n\\nThird-party and independent candidates have also announced presidential runs. They include Robert F. Kennedy Jr., and Cornel West. Centrist political organization No Labels intended to field a third-party \"unity ticket\", before abandoning their efforts in April 2024. Some established third parties, such as the American Solidarity Party, the Prohibition Party, the Constitution Party, the Libertarian Party and the Party for Socialism and Liberation have announced presidential nominees, while the Green Party has begun their primaries. While independent/third-party candidates often do better in opinion polls than actual election performance, third-party candidates, as of April 2024, have the strongest showing in polls since Ross Perot\\'s high poll numbers in the 1990s.'),\n",
       "  Document(page_content='Author Marianne Williamson announced her candidacy in February 2023, before Biden announced his own candidacy for re-election. Williamson had previously sought the Democratic presidential nomination in 2020. In April 2023, Robert F. Kennedy Jr. announced his candidacy for the nomination. On October 9, 2023, Kennedy announced that he would be dropping out of the Democratic primary and would instead run as an independent candidate. Representative Dean Phillips announced his run against Biden on October 26. Venture capitalist Jason Palmer announced his campaign on October 22.\\nWilliamson announced her initial withdrawal on February 7, 2024, though she resumed her campaign a few weeks later.')],\n",
       " 'answer': 'The presidential candidates for the 2024 elections include:\\n\\n1. **Kamala Harris** - Democratic Party nominee, endorsed by Joe Biden.\\n2. **Donald Trump** - Republican Party nominee.\\n3. **Robert F. Kennedy Jr.** - Independent candidate.\\n4. **Cornel West** - Third-party candidate.\\n5. **Marianne Williamson** - Running as a Democratic candidate after initially withdrawing and resuming her campaign.\\n6. **Dean Phillips** - Democratic candidate running against Biden.\\n7. **Jason Palmer** - Candidate announced his campaign as a venture capitalist.\\n\\nOther established third parties have also announced nominees, but specific names were not provided in the context.'}"
      ]
     },
     "execution_count": 9,
     "metadata": {},
     "output_type": "execute_result"
    }
   ],
   "source": [
    "retrieval_chain.invoke({\"input\": query})"
   ]
  },
  {
   "cell_type": "code",
   "execution_count": 12,
   "metadata": {},
   "outputs": [
    {
     "name": "stderr",
     "output_type": "stream",
     "text": [
      "/home/zeus/miniconda3/envs/cloudspace/lib/python3.10/site-packages/colbert/utils/amp.py:15: FutureWarning: `torch.cuda.amp.autocast(args...)` is deprecated. Please use `torch.amp.autocast('cuda', args...)` instead.\n",
      "  return torch.cuda.amp.autocast() if self.activated else NullContextManager()\n"
     ]
    },
    {
     "name": "stdout",
     "output_type": "stream",
     "text": [
      "The presidential candidates for the 2024 elections include:\n",
      "\n",
      "1. **Kamala Harris** - Democratic nominee, endorsed by Joe Biden after he withdrew from the race.\n",
      "2. **Donald Trump** - Republican nominee, having accepted the nomination from the Republican National Convention.\n",
      "3. **Robert F. Kennedy Jr.** - Independent candidate, previously a Democratic primary candidate before switching to run as an independent.\n",
      "4. **Cornel West** - Third-party candidate.\n",
      "5. **Marianne Williamson** - Initially sought the Democratic nomination, later resumed her campaign after a brief withdrawal.\n",
      "6. **Dean Phillips** - Announced his run against Biden in the Democratic primary.\n",
      "7. **Jason Palmer** - Venture capitalist who announced his campaign.\n",
      "\n",
      "Additionally, various third parties such as the American Solidarity Party, Prohibition Party, Constitution Party, Libertarian Party, and the Party for Socialism and Liberation have also announced presidential nominees. The Green Party is in the process of holding their primaries."
     ]
    }
   ],
   "source": [
    "for t in retrieval_chain.stream({\"input\": query}):\n",
    "    print(t.get(\"answer\", \"\"), end=\"\")"
   ]
  }
 ],
 "metadata": {
  "kernelspec": {
   "display_name": ".venv",
   "language": "python",
   "name": "python3"
  },
  "language_info": {
   "codemirror_mode": {
    "name": "ipython",
    "version": 3
   },
   "file_extension": ".py",
   "mimetype": "text/x-python",
   "name": "python",
   "nbconvert_exporter": "python",
   "pygments_lexer": "ipython3",
   "version": "3.12.4"
  }
 },
 "nbformat": 4,
 "nbformat_minor": 2
}
