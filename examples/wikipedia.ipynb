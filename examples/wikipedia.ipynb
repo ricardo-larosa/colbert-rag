{
 "cells": [
  {
   "cell_type": "code",
   "execution_count": 1,
   "metadata": {},
   "outputs": [
    {
     "name": "stderr",
     "output_type": "stream",
     "text": [
      "/home/zeus/miniconda3/envs/cloudspace/lib/python3.10/site-packages/colbert/utils/amp.py:12: FutureWarning: `torch.cuda.amp.GradScaler(args...)` is deprecated. Please use `torch.amp.GradScaler('cuda', args...)` instead.\n",
      "  self.scaler = torch.cuda.amp.GradScaler()\n"
     ]
    }
   ],
   "source": [
    "from ragatouille import RAGPretrainedModel\n",
    "RAG = RAGPretrainedModel.from_pretrained(\"colbert-ir/colbertv2.0\")"
   ]
  },
  {
   "cell_type": "code",
   "execution_count": 2,
   "metadata": {},
   "outputs": [],
   "source": [
    "import requests\n",
    "\n",
    "def get_wikipedia_page(title: str):\n",
    "    \"\"\"\n",
    "    Retrieve the full text content of a Wikipedia page.\n",
    "\n",
    "    :param title: str - Title of the Wikipedia page.\n",
    "    :return: str - Full text content of the page as raw string.\n",
    "    \"\"\"\n",
    "    # Wikipedia API endpoint\n",
    "    URL = \"https://en.wikipedia.org/w/api.php\"\n",
    "\n",
    "    # Parameters for the API request\n",
    "    params = {\n",
    "        \"action\": \"query\",\n",
    "        \"format\": \"json\",\n",
    "        \"titles\": title,\n",
    "        \"prop\": \"extracts\",\n",
    "        \"explaintext\": True,\n",
    "    }\n",
    "\n",
    "    # Custom User-Agent header to comply with Wikipedia's best practices\n",
    "    headers = {\"User-Agent\": \"RAGatouille_tutorial/0.0.1 (ricardo@larosa.dev)\"}\n",
    "\n",
    "    response = requests.get(URL, params=params, headers=headers)\n",
    "    data = response.json()\n",
    "\n",
    "    # Extracting page content\n",
    "    page = next(iter(data[\"query\"][\"pages\"].values()))\n",
    "    \n",
    "    return page[\"extract\"] if \"extract\" in page else None"
   ]
  },
  {
   "cell_type": "code",
   "execution_count": 3,
   "metadata": {},
   "outputs": [],
   "source": [
    "pages = [\"2024_United_States_presidential_election\", \"2024_United_States_elections\"]\n",
    "collection = [get_wikipedia_page(page) for page in pages]"
   ]
  },
  {
   "cell_type": "code",
   "execution_count": 4,
   "metadata": {},
   "outputs": [
    {
     "name": "stdout",
     "output_type": "stream",
     "text": [
      "---- WARNING! You are using PLAID with an experimental replacement for FAISS for greater compatibility ----\n",
      "This is a behaviour change from RAGatouille 0.8.0 onwards.\n",
      "This works fine for most users and smallish datasets, but can be considerably slower than FAISS and could cause worse results in some situations.\n",
      "If you're confident with FAISS working on your machine, pass use_faiss=True to revert to the FAISS-using behaviour.\n",
      "--------------------\n",
      "\n",
      "\n",
      "[Jul 30, 15:21:47] #> Note: Output directory .ragatouille/colbert/indexes/US_Elections-2024 already exists\n",
      "\n",
      "\n",
      "[Jul 30, 15:21:47] #> Will delete 10 files already at .ragatouille/colbert/indexes/US_Elections-2024 in 20 seconds...\n",
      "[Jul 30, 15:22:08] [0] \t\t #> Encoding 104 passages..\n"
     ]
    },
    {
     "name": "stderr",
     "output_type": "stream",
     "text": [
      "/home/zeus/miniconda3/envs/cloudspace/lib/python3.10/site-packages/colbert/utils/amp.py:12: FutureWarning: `torch.cuda.amp.GradScaler(args...)` is deprecated. Please use `torch.amp.GradScaler('cuda', args...)` instead.\n",
      "  self.scaler = torch.cuda.amp.GradScaler()\n",
      "/home/zeus/miniconda3/envs/cloudspace/lib/python3.10/site-packages/colbert/utils/amp.py:15: FutureWarning: `torch.cuda.amp.autocast(args...)` is deprecated. Please use `torch.amp.autocast('cuda', args...)` instead.\n",
      "  return torch.cuda.amp.autocast() if self.activated else NullContextManager()\n"
     ]
    },
    {
     "name": "stdout",
     "output_type": "stream",
     "text": [
      "[Jul 30, 15:22:08] [0] \t\t avg_doclen_est = 130.6826934814453 \t len(local_sample) = 104\n",
      "[Jul 30, 15:22:08] [0] \t\t Creating 1,024 partitions.\n",
      "[Jul 30, 15:22:08] [0] \t\t *Estimated* 13,591 embeddings.\n",
      "[Jul 30, 15:22:08] [0] \t\t #> Saving the indexing plan to .ragatouille/colbert/indexes/US_Elections-2024/plan.json ..\n",
      "used 17 iterations (0.0983s) to cluster 12912 items into 1024 clusters\n",
      "[Jul 30, 15:22:09] Loading decompress_residuals_cpp extension (set COLBERT_LOAD_TORCH_EXTENSION_VERBOSE=True for more info)...\n"
     ]
    },
    {
     "name": "stderr",
     "output_type": "stream",
     "text": [
      "/home/zeus/miniconda3/envs/cloudspace/lib/python3.10/site-packages/colbert/indexing/collection_indexer.py:256: FutureWarning: You are using `torch.load` with `weights_only=False` (the current default value), which uses the default pickle module implicitly. It is possible to construct malicious pickle data which will execute arbitrary code during unpickling (See https://github.com/pytorch/pytorch/blob/main/SECURITY.md#untrusted-models for more details). In a future release, the default value for `weights_only` will be flipped to `True`. This limits the functions that could be executed during unpickling. Arbitrary objects will no longer be allowed to be loaded via this mode unless they are explicitly allowlisted by the user via `torch.serialization.add_safe_globals`. We recommend you start setting `weights_only=True` for any use case where you don't have full control of the loaded file. Please open an issue on GitHub for any issues related to this experimental feature.\n",
      "  sub_sample = torch.load(sub_sample_path)\n"
     ]
    },
    {
     "name": "stdout",
     "output_type": "stream",
     "text": [
      "[Jul 30, 15:22:09] Loading packbits_cpp extension (set COLBERT_LOAD_TORCH_EXTENSION_VERBOSE=True for more info)...\n"
     ]
    },
    {
     "name": "stderr",
     "output_type": "stream",
     "text": [
      "/home/zeus/miniconda3/envs/cloudspace/lib/python3.10/site-packages/colbert/indexing/codecs/residual.py:141: FutureWarning: You are using `torch.load` with `weights_only=False` (the current default value), which uses the default pickle module implicitly. It is possible to construct malicious pickle data which will execute arbitrary code during unpickling (See https://github.com/pytorch/pytorch/blob/main/SECURITY.md#untrusted-models for more details). In a future release, the default value for `weights_only` will be flipped to `True`. This limits the functions that could be executed during unpickling. Arbitrary objects will no longer be allowed to be loaded via this mode unless they are explicitly allowlisted by the user via `torch.serialization.add_safe_globals`. We recommend you start setting `weights_only=True` for any use case where you don't have full control of the loaded file. Please open an issue on GitHub for any issues related to this experimental feature.\n",
      "  centroids = torch.load(centroids_path, map_location='cpu')\n",
      "/home/zeus/miniconda3/envs/cloudspace/lib/python3.10/site-packages/colbert/indexing/codecs/residual.py:142: FutureWarning: You are using `torch.load` with `weights_only=False` (the current default value), which uses the default pickle module implicitly. It is possible to construct malicious pickle data which will execute arbitrary code during unpickling (See https://github.com/pytorch/pytorch/blob/main/SECURITY.md#untrusted-models for more details). In a future release, the default value for `weights_only` will be flipped to `True`. This limits the functions that could be executed during unpickling. Arbitrary objects will no longer be allowed to be loaded via this mode unless they are explicitly allowlisted by the user via `torch.serialization.add_safe_globals`. We recommend you start setting `weights_only=True` for any use case where you don't have full control of the loaded file. Please open an issue on GitHub for any issues related to this experimental feature.\n",
      "  avg_residual = torch.load(avgresidual_path, map_location='cpu')\n",
      "/home/zeus/miniconda3/envs/cloudspace/lib/python3.10/site-packages/colbert/indexing/codecs/residual.py:143: FutureWarning: You are using `torch.load` with `weights_only=False` (the current default value), which uses the default pickle module implicitly. It is possible to construct malicious pickle data which will execute arbitrary code during unpickling (See https://github.com/pytorch/pytorch/blob/main/SECURITY.md#untrusted-models for more details). In a future release, the default value for `weights_only` will be flipped to `True`. This limits the functions that could be executed during unpickling. Arbitrary objects will no longer be allowed to be loaded via this mode unless they are explicitly allowlisted by the user via `torch.serialization.add_safe_globals`. We recommend you start setting `weights_only=True` for any use case where you don't have full control of the loaded file. Please open an issue on GitHub for any issues related to this experimental feature.\n",
      "  bucket_cutoffs, bucket_weights = torch.load(buckets_path, map_location='cpu')\n"
     ]
    },
    {
     "name": "stdout",
     "output_type": "stream",
     "text": [
      "[0.034, 0.04, 0.038, 0.036, 0.037, 0.04, 0.039, 0.036, 0.035, 0.044, 0.035, 0.04, 0.038, 0.04, 0.038, 0.037, 0.031, 0.035, 0.037, 0.039, 0.039, 0.036, 0.039, 0.037, 0.036, 0.038, 0.043, 0.038, 0.036, 0.037, 0.039, 0.039, 0.04, 0.036, 0.038, 0.033, 0.042, 0.038, 0.041, 0.046, 0.042, 0.036, 0.04, 0.038, 0.037, 0.035, 0.038, 0.043, 0.038, 0.038, 0.035, 0.036, 0.037, 0.036, 0.039, 0.04, 0.045, 0.036, 0.047, 0.039, 0.037, 0.038, 0.037, 0.041, 0.041, 0.039, 0.039, 0.04, 0.032, 0.037, 0.04, 0.034, 0.036, 0.038, 0.037, 0.037, 0.041, 0.041, 0.044, 0.038, 0.04, 0.041, 0.037, 0.039, 0.041, 0.036, 0.037, 0.038, 0.039, 0.042, 0.036, 0.04, 0.038, 0.039, 0.037, 0.039, 0.042, 0.037, 0.039, 0.036, 0.04, 0.043, 0.037, 0.036, 0.036, 0.041, 0.039, 0.037, 0.041, 0.034, 0.038, 0.038, 0.042, 0.036, 0.039, 0.036, 0.034, 0.04, 0.038, 0.038, 0.036, 0.037, 0.036, 0.04, 0.037, 0.037, 0.037, 0.036]\n"
     ]
    },
    {
     "name": "stderr",
     "output_type": "stream",
     "text": [
      "0it [00:00, ?it/s]"
     ]
    },
    {
     "name": "stdout",
     "output_type": "stream",
     "text": [
      "[Jul 30, 15:22:09] [0] \t\t #> Encoding 104 passages..\n"
     ]
    },
    {
     "name": "stderr",
     "output_type": "stream",
     "text": [
      "/home/zeus/miniconda3/envs/cloudspace/lib/python3.10/site-packages/colbert/utils/amp.py:15: FutureWarning: `torch.cuda.amp.autocast(args...)` is deprecated. Please use `torch.amp.autocast('cuda', args...)` instead.\n",
      "  return torch.cuda.amp.autocast() if self.activated else NullContextManager()\n",
      "1it [00:00,  6.85it/s]\n",
      "  0%|          | 0/1 [00:00<?, ?it/s]/home/zeus/miniconda3/envs/cloudspace/lib/python3.10/site-packages/colbert/indexing/codecs/residual_embeddings.py:86: FutureWarning: You are using `torch.load` with `weights_only=False` (the current default value), which uses the default pickle module implicitly. It is possible to construct malicious pickle data which will execute arbitrary code during unpickling (See https://github.com/pytorch/pytorch/blob/main/SECURITY.md#untrusted-models for more details). In a future release, the default value for `weights_only` will be flipped to `True`. This limits the functions that could be executed during unpickling. Arbitrary objects will no longer be allowed to be loaded via this mode unless they are explicitly allowlisted by the user via `torch.serialization.add_safe_globals`. We recommend you start setting `weights_only=True` for any use case where you don't have full control of the loaded file. Please open an issue on GitHub for any issues related to this experimental feature.\n",
      "  return torch.load(codes_path, map_location='cpu')\n",
      "100%|██████████| 1/1 [00:00<00:00, 1233.26it/s]"
     ]
    },
    {
     "name": "stdout",
     "output_type": "stream",
     "text": [
      "[Jul 30, 15:22:09] #> Optimizing IVF to store map from centroids to list of pids..\n",
      "[Jul 30, 15:22:09] #> Building the emb2pid mapping..\n",
      "[Jul 30, 15:22:09] len(emb2pid) = 13591\n"
     ]
    },
    {
     "name": "stderr",
     "output_type": "stream",
     "text": [
      "\n",
      "100%|██████████| 1024/1024 [00:00<00:00, 86049.07it/s]"
     ]
    },
    {
     "name": "stdout",
     "output_type": "stream",
     "text": [
      "[Jul 30, 15:22:09] #> Saved optimized IVF to .ragatouille/colbert/indexes/US_Elections-2024/ivf.pid.pt\n"
     ]
    },
    {
     "name": "stderr",
     "output_type": "stream",
     "text": [
      "\n"
     ]
    },
    {
     "name": "stdout",
     "output_type": "stream",
     "text": [
      "Done indexing!\n"
     ]
    },
    {
     "data": {
      "text/plain": [
       "'.ragatouille/colbert/indexes/US_Elections-2024'"
      ]
     },
     "execution_count": 4,
     "metadata": {},
     "output_type": "execute_result"
    }
   ],
   "source": [
    "RAG.index(\n",
    "    collection=collection,\n",
    "    index_name=\"US_Elections-2024\",\n",
    "    max_document_length=180,\n",
    "    split_documents=True,\n",
    ")"
   ]
  },
  {
   "cell_type": "code",
   "execution_count": 5,
   "metadata": {},
   "outputs": [],
   "source": [
    "query = \"Who are the presidential candidates for the elections in 2024\""
   ]
  },
  {
   "cell_type": "code",
   "execution_count": 6,
   "metadata": {},
   "outputs": [
    {
     "name": "stdout",
     "output_type": "stream",
     "text": [
      "Loading searcher for index US_Elections-2024 for the first time... This may take a few seconds\n",
      "[Jul 30, 15:22:10] #> Loading codec...\n",
      "[Jul 30, 15:22:10] #> Loading IVF...\n",
      "[Jul 30, 15:22:10] #> Loading doclens...\n"
     ]
    },
    {
     "name": "stderr",
     "output_type": "stream",
     "text": [
      "/home/zeus/miniconda3/envs/cloudspace/lib/python3.10/site-packages/colbert/utils/amp.py:12: FutureWarning: `torch.cuda.amp.GradScaler(args...)` is deprecated. Please use `torch.amp.GradScaler('cuda', args...)` instead.\n",
      "  self.scaler = torch.cuda.amp.GradScaler()\n",
      "/home/zeus/miniconda3/envs/cloudspace/lib/python3.10/site-packages/colbert/indexing/codecs/residual.py:141: FutureWarning: You are using `torch.load` with `weights_only=False` (the current default value), which uses the default pickle module implicitly. It is possible to construct malicious pickle data which will execute arbitrary code during unpickling (See https://github.com/pytorch/pytorch/blob/main/SECURITY.md#untrusted-models for more details). In a future release, the default value for `weights_only` will be flipped to `True`. This limits the functions that could be executed during unpickling. Arbitrary objects will no longer be allowed to be loaded via this mode unless they are explicitly allowlisted by the user via `torch.serialization.add_safe_globals`. We recommend you start setting `weights_only=True` for any use case where you don't have full control of the loaded file. Please open an issue on GitHub for any issues related to this experimental feature.\n",
      "  centroids = torch.load(centroids_path, map_location='cpu')\n",
      "/home/zeus/miniconda3/envs/cloudspace/lib/python3.10/site-packages/colbert/indexing/codecs/residual.py:142: FutureWarning: You are using `torch.load` with `weights_only=False` (the current default value), which uses the default pickle module implicitly. It is possible to construct malicious pickle data which will execute arbitrary code during unpickling (See https://github.com/pytorch/pytorch/blob/main/SECURITY.md#untrusted-models for more details). In a future release, the default value for `weights_only` will be flipped to `True`. This limits the functions that could be executed during unpickling. Arbitrary objects will no longer be allowed to be loaded via this mode unless they are explicitly allowlisted by the user via `torch.serialization.add_safe_globals`. We recommend you start setting `weights_only=True` for any use case where you don't have full control of the loaded file. Please open an issue on GitHub for any issues related to this experimental feature.\n",
      "  avg_residual = torch.load(avgresidual_path, map_location='cpu')\n",
      "/home/zeus/miniconda3/envs/cloudspace/lib/python3.10/site-packages/colbert/indexing/codecs/residual.py:143: FutureWarning: You are using `torch.load` with `weights_only=False` (the current default value), which uses the default pickle module implicitly. It is possible to construct malicious pickle data which will execute arbitrary code during unpickling (See https://github.com/pytorch/pytorch/blob/main/SECURITY.md#untrusted-models for more details). In a future release, the default value for `weights_only` will be flipped to `True`. This limits the functions that could be executed during unpickling. Arbitrary objects will no longer be allowed to be loaded via this mode unless they are explicitly allowlisted by the user via `torch.serialization.add_safe_globals`. We recommend you start setting `weights_only=True` for any use case where you don't have full control of the loaded file. Please open an issue on GitHub for any issues related to this experimental feature.\n",
      "  bucket_cutoffs, bucket_weights = torch.load(buckets_path, map_location='cpu')\n",
      "/home/zeus/miniconda3/envs/cloudspace/lib/python3.10/site-packages/colbert/search/index_loader.py:33: FutureWarning: You are using `torch.load` with `weights_only=False` (the current default value), which uses the default pickle module implicitly. It is possible to construct malicious pickle data which will execute arbitrary code during unpickling (See https://github.com/pytorch/pytorch/blob/main/SECURITY.md#untrusted-models for more details). In a future release, the default value for `weights_only` will be flipped to `True`. This limits the functions that could be executed during unpickling. Arbitrary objects will no longer be allowed to be loaded via this mode unless they are explicitly allowlisted by the user via `torch.serialization.add_safe_globals`. We recommend you start setting `weights_only=True` for any use case where you don't have full control of the loaded file. Please open an issue on GitHub for any issues related to this experimental feature.\n",
      "  ivf, ivf_lengths = torch.load(os.path.join(self.index_path, \"ivf.pid.pt\"), map_location='cpu')\n",
      "100%|██████████| 1/1 [00:00<00:00, 4232.40it/s]"
     ]
    },
    {
     "name": "stdout",
     "output_type": "stream",
     "text": [
      "[Jul 30, 15:22:10] #> Loading codes and residuals...\n"
     ]
    },
    {
     "name": "stderr",
     "output_type": "stream",
     "text": [
      "\n",
      "  0%|          | 0/1 [00:00<?, ?it/s]/home/zeus/miniconda3/envs/cloudspace/lib/python3.10/site-packages/colbert/indexing/codecs/residual_embeddings.py:86: FutureWarning: You are using `torch.load` with `weights_only=False` (the current default value), which uses the default pickle module implicitly. It is possible to construct malicious pickle data which will execute arbitrary code during unpickling (See https://github.com/pytorch/pytorch/blob/main/SECURITY.md#untrusted-models for more details). In a future release, the default value for `weights_only` will be flipped to `True`. This limits the functions that could be executed during unpickling. Arbitrary objects will no longer be allowed to be loaded via this mode unless they are explicitly allowlisted by the user via `torch.serialization.add_safe_globals`. We recommend you start setting `weights_only=True` for any use case where you don't have full control of the loaded file. Please open an issue on GitHub for any issues related to this experimental feature.\n",
      "  return torch.load(codes_path, map_location='cpu')\n",
      "/home/zeus/miniconda3/envs/cloudspace/lib/python3.10/site-packages/colbert/indexing/codecs/residual_embeddings.py:93: FutureWarning: You are using `torch.load` with `weights_only=False` (the current default value), which uses the default pickle module implicitly. It is possible to construct malicious pickle data which will execute arbitrary code during unpickling (See https://github.com/pytorch/pytorch/blob/main/SECURITY.md#untrusted-models for more details). In a future release, the default value for `weights_only` will be flipped to `True`. This limits the functions that could be executed during unpickling. Arbitrary objects will no longer be allowed to be loaded via this mode unless they are explicitly allowlisted by the user via `torch.serialization.add_safe_globals`. We recommend you start setting `weights_only=True` for any use case where you don't have full control of the loaded file. Please open an issue on GitHub for any issues related to this experimental feature.\n",
      "  return torch.load(residuals_path, map_location='cpu')\n",
      "100%|██████████| 1/1 [00:00<00:00, 894.12it/s]"
     ]
    },
    {
     "name": "stdout",
     "output_type": "stream",
     "text": [
      "Searcher loaded!\n",
      "\n",
      "#> QueryTokenizer.tensorize(batch_text[0], batch_background[0], bsize) ==\n",
      "#> Input: . Who are the presidential candidates for the elections in 2024, \t\t True, \t\t None\n",
      "#> Output IDs: torch.Size([32]), tensor([  101,     1,  2040,  2024,  1996,  4883,  5347,  2005,  1996,  3864,\n",
      "         1999, 16798,  2549,   102,   103,   103,   103,   103,   103,   103,\n",
      "          103,   103,   103,   103,   103,   103,   103,   103,   103,   103,\n",
      "          103,   103], device='cuda:0')\n",
      "#> Output Mask: torch.Size([32]), tensor([1, 1, 1, 1, 1, 1, 1, 1, 1, 1, 1, 1, 1, 1, 0, 0, 0, 0, 0, 0, 0, 0, 0, 0,\n",
      "        0, 0, 0, 0, 0, 0, 0, 0], device='cuda:0')\n",
      "\n"
     ]
    },
    {
     "name": "stderr",
     "output_type": "stream",
     "text": [
      "\n",
      "/home/zeus/miniconda3/envs/cloudspace/lib/python3.10/site-packages/colbert/utils/amp.py:15: FutureWarning: `torch.cuda.amp.autocast(args...)` is deprecated. Please use `torch.amp.autocast('cuda', args...)` instead.\n",
      "  return torch.cuda.amp.autocast() if self.activated else NullContextManager()\n"
     ]
    },
    {
     "data": {
      "text/plain": [
       "[{'content': \"The 2024 United States presidential election will be the 60th quadrennial presidential election, set to be held on Tuesday, November 5, 2024. Voters in each state and the District of Columbia will choose a slate of electors to the U.S. Electoral College, who will then elect a president and vice president for a term of four years.\\nIncumbent president Joe Biden, a member of the Democratic Party, initially ran for re-election and became the party's presumptive nominee on March 12. However, following a poor performance in the June 2024 presidential debate and increasing age and health concerns, he withdrew on July 21 and endorsed Vice President Kamala Harris, who launched her presidential campaign the same day. She secured enough delegate endorsements to become the new presumptive nominee a day later.\",\n",
       "  'score': 26.796875,\n",
       "  'rank': 1,\n",
       "  'document_id': 'afc1663c-0e1a-4b33-8590-837e63158b63',\n",
       "  'passage_id': 0},\n",
       " {'content': \"Other candidates who have entered the 2024 Republican Party presidential primaries include former South Carolina governor and former U.S. Ambassador to the U.N. Nikki Haley and current Florida governor Ron DeSantis, who have since suspended their campaigns. The first Republican presidential debate was held on August 23, 2023, and the first primary contest was the 2024 Iowa Republican presidential caucuses, which was held on January 15, 2024.\\nIn October 2023, Robert F. Kennedy Jr. announced his run as an independent presidential candidate. By the next month, Kennedy's polling was at the highest levels for a candidate outside the two major parties since Ross Perot in 1992.\\n\\n\\n=== Congressional elections ===\",\n",
       "  'score': 25.609375,\n",
       "  'rank': 2,\n",
       "  'document_id': '66d4723e-4775-4dd0-913f-8f8297af7bf8',\n",
       "  'passage_id': 79},\n",
       " {'content': 'This decision was later overturned by the US Supreme Court on March 4, 2024.\\n\\n\\n== Federal elections ==\\n\\n\\n=== Presidential election ===\\n\\nThe 2024 United States presidential election will be the 60th quadrennial U.S. presidential election. This will be the first presidential election under the electoral vote distribution determined by the 2020 census. Presidential electors who will elect the President and Vice President of the United States will be chosen; a simple majority (270) of the 538 electoral votes are required to win the election. President Joe Biden ran for a second term, with Vice President Kamala Harris once again serving as his running mate; Biden later withdrew his candidacy on July 21, 2024.',\n",
       "  'score': 24.9375,\n",
       "  'rank': 3,\n",
       "  'document_id': '66d4723e-4775-4dd0-913f-8f8297af7bf8',\n",
       "  'passage_id': 77}]"
      ]
     },
     "execution_count": 6,
     "metadata": {},
     "output_type": "execute_result"
    }
   ],
   "source": [
    "results = RAG.search(query=query, k=3)\n",
    "results"
   ]
  },
  {
   "cell_type": "code",
   "execution_count": 7,
   "metadata": {},
   "outputs": [
    {
     "name": "stderr",
     "output_type": "stream",
     "text": [
      "/home/zeus/miniconda3/envs/cloudspace/lib/python3.10/site-packages/colbert/utils/amp.py:15: FutureWarning: `torch.cuda.amp.autocast(args...)` is deprecated. Please use `torch.amp.autocast('cuda', args...)` instead.\n",
      "  return torch.cuda.amp.autocast() if self.activated else NullContextManager()\n"
     ]
    },
    {
     "data": {
      "text/plain": [
       "[Document(page_content=\"The 2024 United States presidential election will be the 60th quadrennial presidential election, set to be held on Tuesday, November 5, 2024. Voters in each state and the District of Columbia will choose a slate of electors to the U.S. Electoral College, who will then elect a president and vice president for a term of four years.\\nIncumbent president Joe Biden, a member of the Democratic Party, initially ran for re-election and became the party's presumptive nominee on March 12. However, following a poor performance in the June 2024 presidential debate and increasing age and health concerns, he withdrew on July 21 and endorsed Vice President Kamala Harris, who launched her presidential campaign the same day. She secured enough delegate endorsements to become the new presumptive nominee a day later.\"),\n",
       " Document(page_content=\"Other candidates who have entered the 2024 Republican Party presidential primaries include former South Carolina governor and former U.S. Ambassador to the U.N. Nikki Haley and current Florida governor Ron DeSantis, who have since suspended their campaigns. The first Republican presidential debate was held on August 23, 2023, and the first primary contest was the 2024 Iowa Republican presidential caucuses, which was held on January 15, 2024.\\nIn October 2023, Robert F. Kennedy Jr. announced his run as an independent presidential candidate. By the next month, Kennedy's polling was at the highest levels for a candidate outside the two major parties since Ross Perot in 1992.\\n\\n\\n=== Congressional elections ===\"),\n",
       " Document(page_content='This decision was later overturned by the US Supreme Court on March 4, 2024.\\n\\n\\n== Federal elections ==\\n\\n\\n=== Presidential election ===\\n\\nThe 2024 United States presidential election will be the 60th quadrennial U.S. presidential election. This will be the first presidential election under the electoral vote distribution determined by the 2020 census. Presidential electors who will elect the President and Vice President of the United States will be chosen; a simple majority (270) of the 538 electoral votes are required to win the election. President Joe Biden ran for a second term, with Vice President Kamala Harris once again serving as his running mate; Biden later withdrew his candidacy on July 21, 2024.'),\n",
       " Document(page_content='President Joe Biden ran for a second term, with Vice President Kamala Harris once again serving as his running mate; Biden later withdrew his candidacy on July 21, 2024. Other individuals have launched their candidacies in the 2024 Democratic Party presidential primaries, though the last time a sitting president eligible for re-election did not win re-nomination from their respective party was in the 1968 presidential election.\\nAfter a survey by the Associated Press of Democratic delegates on July 22, 2024, Kamala Harris became the new presumptive candidate for the Democratic party, a day after declaring her candidacy.\\nIn November 2022, former President Donald Trump announced his candidacy in the 2024 presidential election. Other candidates who have entered the 2024 Republican Party presidential primaries include former South Carolina governor and former U.S. Ambassador to the U.N.')]"
      ]
     },
     "execution_count": 7,
     "metadata": {},
     "output_type": "execute_result"
    }
   ],
   "source": [
    "retriever = RAG.as_langchain_retriever(k=4)\n",
    "retriever.invoke(query)"
   ]
  },
  {
   "cell_type": "code",
   "execution_count": 8,
   "metadata": {},
   "outputs": [],
   "source": [
    "from dotenv import load_dotenv\n",
    "_ = load_dotenv()"
   ]
  },
  {
   "cell_type": "code",
   "execution_count": 9,
   "metadata": {},
   "outputs": [],
   "source": [
    "from langchain.chains import create_retrieval_chain\n",
    "from langchain.chains.combine_documents import create_stuff_documents_chain\n",
    "from langchain_core.prompts import ChatPromptTemplate\n",
    "from langchain_openai import ChatOpenAI\n",
    "\n",
    "prompt = ChatPromptTemplate.from_template(\n",
    "    \"\"\"Answer the following question based only on the provided context:\n",
    "\n",
    "<context>\n",
    "{context}\n",
    "</context>\n",
    "\n",
    "Question: {input}\"\"\"\n",
    ")\n",
    "\n",
    "llm = ChatOpenAI(model=\"gpt-4o-mini\")\n",
    "\n",
    "document_chain = create_stuff_documents_chain(llm, prompt)\n",
    "retrieval_chain = create_retrieval_chain(retriever, document_chain)"
   ]
  },
  {
   "cell_type": "code",
   "execution_count": 10,
   "metadata": {},
   "outputs": [
    {
     "name": "stderr",
     "output_type": "stream",
     "text": [
      "/home/zeus/miniconda3/envs/cloudspace/lib/python3.10/site-packages/colbert/utils/amp.py:15: FutureWarning: `torch.cuda.amp.autocast(args...)` is deprecated. Please use `torch.amp.autocast('cuda', args...)` instead.\n",
      "  return torch.cuda.amp.autocast() if self.activated else NullContextManager()\n"
     ]
    },
    {
     "data": {
      "text/plain": [
       "{'input': 'Who are the presidential candidates for the elections in 2024',\n",
       " 'context': [Document(page_content=\"The 2024 United States presidential election will be the 60th quadrennial presidential election, set to be held on Tuesday, November 5, 2024. Voters in each state and the District of Columbia will choose a slate of electors to the U.S. Electoral College, who will then elect a president and vice president for a term of four years.\\nIncumbent president Joe Biden, a member of the Democratic Party, initially ran for re-election and became the party's presumptive nominee on March 12. However, following a poor performance in the June 2024 presidential debate and increasing age and health concerns, he withdrew on July 21 and endorsed Vice President Kamala Harris, who launched her presidential campaign the same day. She secured enough delegate endorsements to become the new presumptive nominee a day later.\"),\n",
       "  Document(page_content=\"Other candidates who have entered the 2024 Republican Party presidential primaries include former South Carolina governor and former U.S. Ambassador to the U.N. Nikki Haley and current Florida governor Ron DeSantis, who have since suspended their campaigns. The first Republican presidential debate was held on August 23, 2023, and the first primary contest was the 2024 Iowa Republican presidential caucuses, which was held on January 15, 2024.\\nIn October 2023, Robert F. Kennedy Jr. announced his run as an independent presidential candidate. By the next month, Kennedy's polling was at the highest levels for a candidate outside the two major parties since Ross Perot in 1992.\\n\\n\\n=== Congressional elections ===\"),\n",
       "  Document(page_content='This decision was later overturned by the US Supreme Court on March 4, 2024.\\n\\n\\n== Federal elections ==\\n\\n\\n=== Presidential election ===\\n\\nThe 2024 United States presidential election will be the 60th quadrennial U.S. presidential election. This will be the first presidential election under the electoral vote distribution determined by the 2020 census. Presidential electors who will elect the President and Vice President of the United States will be chosen; a simple majority (270) of the 538 electoral votes are required to win the election. President Joe Biden ran for a second term, with Vice President Kamala Harris once again serving as his running mate; Biden later withdrew his candidacy on July 21, 2024.'),\n",
       "  Document(page_content='President Joe Biden ran for a second term, with Vice President Kamala Harris once again serving as his running mate; Biden later withdrew his candidacy on July 21, 2024. Other individuals have launched their candidacies in the 2024 Democratic Party presidential primaries, though the last time a sitting president eligible for re-election did not win re-nomination from their respective party was in the 1968 presidential election.\\nAfter a survey by the Associated Press of Democratic delegates on July 22, 2024, Kamala Harris became the new presumptive candidate for the Democratic party, a day after declaring her candidacy.\\nIn November 2022, former President Donald Trump announced his candidacy in the 2024 presidential election. Other candidates who have entered the 2024 Republican Party presidential primaries include former South Carolina governor and former U.S. Ambassador to the U.N.')],\n",
       " 'answer': 'The presidential candidates for the 2024 elections include:\\n\\n1. Kamala Harris - Democratic Party (presumptive nominee after Joe Biden withdrew).\\n2. Joe Biden - Initially ran for re-election as the Democratic nominee but withdrew.\\n3. Donald Trump - Republican Party (former President).\\n4. Nikki Haley - Republican Party (former South Carolina governor and former U.S. Ambassador to the U.N., campaign suspended).\\n5. Ron DeSantis - Republican Party (current Florida governor, campaign suspended).\\n6. Robert F. Kennedy Jr. - Independent candidate.'}"
      ]
     },
     "execution_count": 10,
     "metadata": {},
     "output_type": "execute_result"
    }
   ],
   "source": [
    "retrieval_chain.invoke({\"input\": query})"
   ]
  },
  {
   "cell_type": "code",
   "execution_count": 11,
   "metadata": {},
   "outputs": [
    {
     "name": "stderr",
     "output_type": "stream",
     "text": [
      "/home/zeus/miniconda3/envs/cloudspace/lib/python3.10/site-packages/colbert/utils/amp.py:15: FutureWarning: `torch.cuda.amp.autocast(args...)` is deprecated. Please use `torch.amp.autocast('cuda', args...)` instead.\n",
      "  return torch.cuda.amp.autocast() if self.activated else NullContextManager()\n"
     ]
    },
    {
     "name": "stdout",
     "output_type": "stream",
     "text": [
      "The presidential candidates for the 2024 elections include:\n",
      "\n",
      "1. Kamala Harris - Democratic Party presumptive nominee (endorsed by Joe Biden after he withdrew).\n",
      "2. Donald Trump - Republican Party candidate (former President).\n",
      "3. Robert F. Kennedy Jr. - Independent presidential candidate.\n",
      "\n",
      "Additionally, there were other candidates in the Republican Party primaries, such as Nikki Haley and Ron DeSantis, who have since suspended their campaigns."
     ]
    }
   ],
   "source": [
    "for t in retrieval_chain.stream({\"input\": query}):\n",
    "    print(t.get(\"answer\", \"\"), end=\"\")"
   ]
  }
 ],
 "metadata": {
  "kernelspec": {
   "display_name": ".venv",
   "language": "python",
   "name": "python3"
  },
  "language_info": {
   "codemirror_mode": {
    "name": "ipython",
    "version": 3
   },
   "file_extension": ".py",
   "mimetype": "text/x-python",
   "name": "python",
   "nbconvert_exporter": "python",
   "pygments_lexer": "ipython3",
   "version": "3.12.4"
  }
 },
 "nbformat": 4,
 "nbformat_minor": 2
}
